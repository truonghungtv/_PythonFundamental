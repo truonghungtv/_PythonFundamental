{
 "cells": [
  {
   "cell_type": "code",
   "execution_count": null,
   "metadata": {},
   "outputs": [],
   "source": [
    "#Bước 1: Import thư viện turtle\n",
    "import turtle\n",
    "\n",
    "#Bước 2: Tạo đối tượng turtle\n",
    "t = turtle.Turtle()\n",
    "t.shape(\"turtle\")\n",
    "t.pensize(5)\n",
    "t.shapesize(3,3,3)\n",
    "t.fillcolor(\"red\")\n",
    "t.pencolor(\"green\")\n",
    "t.speed(1)\n",
    "#Bước 3: Vẽ\n",
    "t.fd(200)\n",
    "t.rt(90)\n",
    "t.fd(200)\n",
    "t.rt(90)\n",
    "t.fd(200)\n",
    "t.rt(90)\n",
    "t.fd(200)\n",
    "t.rt(90)\n",
    "\n",
    "#Bước 4: Hoàn thành\n",
    "turtle.done()"
   ]
  },
  {
   "cell_type": "code",
   "execution_count": null,
   "metadata": {},
   "outputs": [],
   "source": []
  }
 ],
 "metadata": {
  "kernelspec": {
   "display_name": "Python 3",
   "language": "python",
   "name": "python3"
  },
  "language_info": {
   "codemirror_mode": {
    "name": "ipython",
    "version": 3
   },
   "file_extension": ".py",
   "mimetype": "text/x-python",
   "name": "python",
   "nbconvert_exporter": "python",
   "pygments_lexer": "ipython3",
   "version": "3.8.5"
  }
 },
 "nbformat": 4,
 "nbformat_minor": 4
}
