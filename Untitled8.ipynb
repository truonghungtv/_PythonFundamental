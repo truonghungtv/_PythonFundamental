{
 "cells": [
  {
   "cell_type": "code",
   "execution_count": 1,
   "metadata": {},
   "outputs": [
    {
     "name": "stdout",
     "output_type": "stream",
     "text": [
      "Số viên đường hộp có thể chứa :  1200\n"
     ]
    }
   ],
   "source": [
    "a = 150\n",
    "b = 100\n",
    "c = 10\n",
    "d = 5\n",
    "\n",
    "a1=a//d\n",
    "b1=b//d\n",
    "c1=c//d\n",
    "V1 =a1*b1*c1\n",
    "print(\"Số viên đường hộp có thể chứa : \",V1)"
   ]
  }
 ],
 "metadata": {
  "kernelspec": {
   "display_name": "Python 3",
   "language": "python",
   "name": "python3"
  },
  "language_info": {
   "codemirror_mode": {
    "name": "ipython",
    "version": 3
   },
   "file_extension": ".py",
   "mimetype": "text/x-python",
   "name": "python",
   "nbconvert_exporter": "python",
   "pygments_lexer": "ipython3",
   "version": "3.8.5"
  }
 },
 "nbformat": 4,
 "nbformat_minor": 4
}
