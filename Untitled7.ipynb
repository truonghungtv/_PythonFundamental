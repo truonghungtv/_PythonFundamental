{
 "cells": [
  {
   "cell_type": "code",
   "execution_count": null,
   "metadata": {},
   "outputs": [],
   "source": [
    "import turtle\n",
    "t=turtle.Turtle()\n",
    "t.speed(1)\n",
    "a = 100\n",
    "t.pencolor(\"red\")\n",
    "t.circle(a)\n",
    "\n",
    "a = a - 20\n",
    "t.pencolor(\"blue\")\n",
    "t.circle(a)\n",
    "\n",
    "a = a - 20\n",
    "t.pencolor(\"pink\")\n",
    "t.circle(a)\n",
    "\n",
    "turtle.done()"
   ]
  }
 ],
 "metadata": {
  "kernelspec": {
   "display_name": "Python 3",
   "language": "python",
   "name": "python3"
  },
  "language_info": {
   "codemirror_mode": {
    "name": "ipython",
    "version": 3
   },
   "file_extension": ".py",
   "mimetype": "text/x-python",
   "name": "python",
   "nbconvert_exporter": "python",
   "pygments_lexer": "ipython3",
   "version": "3.8.5"
  }
 },
 "nbformat": 4,
 "nbformat_minor": 4
}
