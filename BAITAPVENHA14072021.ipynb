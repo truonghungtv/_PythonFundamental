{
 "cells": [
  {
   "cell_type": "code",
   "execution_count": null,
   "metadata": {},
   "outputs": [
    {
     "name": "stdout",
     "output_type": "stream",
     "text": [
      "Nhập hoành độ A:-60\n",
      "Nhập tung độ A:150\n",
      "Nhập hoành độ B:-30\n",
      "Nhập tung độ B:90\n",
      "Nhập hoành độ C:240\n",
      "Nhập tung độ C:-30\n",
      "A(-60,150)\n",
      "B(-30,90)\n",
      "C(240,-30)\n",
      "Để ABCD là hình bình hành thì tọa độ điểm D (210.0,30.0)\n",
      "CHU VI HÌNH BÌNH HÀNH  VỪA NHẬP: 725.1\n",
      "Nhâp mau vien:green\n",
      "Nhập vào màu tô:blue\n"
     ]
    }
   ],
   "source": [
    "# \n",
    "import math\n",
    "import turtle\n",
    "\n",
    "# Nhập tọa độ các điểm đã biết A, B, C\n",
    "x1 = int(input(\"Nhập hoành độ A:\"))\n",
    "y1 = int(input(\"Nhập tung độ A:\"))\n",
    "\n",
    "x2 = int(input(\"Nhập hoành độ B:\"))\n",
    "y2 = int(input(\"Nhập tung độ B:\"))\n",
    "\n",
    "x3 = int(input(\"Nhập hoành độ C:\"))\n",
    "y3 = int(input(\"Nhập tung độ C:\"))\n",
    "\n",
    "print(\"A({0},{1})\".format(x1,y1))\n",
    "print(\"B({0},{1})\".format(x2,y2))\n",
    "print(\"C({0},{1})\".format(x3,y3))\n",
    "\n",
    "# Tính tọa độ tâm hình bình hành\n",
    "x = (x1 +x3)/2  \n",
    "y = (y1 + y3)/2\n",
    "\n",
    "# Tọa độ điểm D cần tìm\n",
    "x4 = 2*x - x2\n",
    "y4 =2*y - y2\n",
    "print(\"Để ABCD là hình bình hành thì tọa độ điểm D ({hd},{td})\".format(td =y4,hd =x4))\n",
    "\n",
    "# Độ dài cạnh hình bình hành\n",
    "AB = math.sqrt(pow(x2-x1,2)+pow(y2-y1,2))\n",
    "BC = math.sqrt(pow(x3-x2,2)+pow(y3-y2,2))\n",
    "p = 2*(AB + BC)\n",
    "print(\"CHU VI HÌNH BÌNH HÀNH  VỪA NHẬP:\",round(p,2))\n",
    "\n",
    "\n",
    "# Chuẩn bị vẽ\n",
    "t = turtle.Turtle()\n",
    "t.shape('turtle')\n",
    "t.pensize(5)\n",
    "t.speed(1)\n",
    "mauvien =input(\"Nhâp mau vien:\")\n",
    "mauto =input(\"Nhập vào màu tô:\") # red, green, blue, black, yellow, gray,pink,orange (nếu là mã màu thì có dạng #RRGGBB)\n",
    "\n",
    "# Vẽ\n",
    "t.color(mauvien)\n",
    "t.begin_fill()\n",
    "t.fillcolor(mauto)\n",
    "t.pu()\n",
    "t.goto(x1,y1)\n",
    "t.pendown()\n",
    "t.goto(x2,y2)\n",
    "t.goto(x3,y3)\n",
    "t.goto(x4,y4)\n",
    "t.goto(x1,y1)\n",
    "t.end_fill()\n",
    "# Hoàn thành vẽ\n",
    "turtle.done()\n"
   ]
  }
 ],
 "metadata": {
  "kernelspec": {
   "display_name": "Python 3",
   "language": "python",
   "name": "python3"
  },
  "language_info": {
   "codemirror_mode": {
    "name": "ipython",
    "version": 3
   },
   "file_extension": ".py",
   "mimetype": "text/x-python",
   "name": "python",
   "nbconvert_exporter": "python",
   "pygments_lexer": "ipython3",
   "version": "3.8.5"
  }
 },
 "nbformat": 4,
 "nbformat_minor": 4
}
