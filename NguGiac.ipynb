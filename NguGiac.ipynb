{
 "cells": [
  {
   "cell_type": "code",
   "execution_count": null,
   "metadata": {},
   "outputs": [],
   "source": [
    "# Import thư viện turtle\n",
    "import turtle\n",
    "\n",
    "a =turtle.Turtle()\n",
    "a.shape(\"turtle\")\n",
    "a.pensize(5)\n",
    "a.pencolor('#0000ff')\n",
    "a.speed(1)\n",
    "\n",
    "a.forward(200)\n",
    "a.left(360/5)\n",
    "a.forward(200)\n",
    "a.left(360/5)\n",
    "a.forward(200)\n",
    "a.left(360/5)\n",
    "a.forward(200)\n",
    "a.left(362/5)\n",
    "a.forward(200)\n",
    "a.left(360/5)\n",
    "a.hide()\n",
    "\n",
    "turtle.done()\n",
    "\n"
   ]
  },
  {
   "cell_type": "code",
   "execution_count": null,
   "metadata": {},
   "outputs": [],
   "source": []
  }
 ],
 "metadata": {
  "kernelspec": {
   "display_name": "Python 3",
   "language": "python",
   "name": "python3"
  },
  "language_info": {
   "codemirror_mode": {
    "name": "ipython",
    "version": 3
   },
   "file_extension": ".py",
   "mimetype": "text/x-python",
   "name": "python",
   "nbconvert_exporter": "python",
   "pygments_lexer": "ipython3",
   "version": "3.8.5"
  }
 },
 "nbformat": 4,
 "nbformat_minor": 4
}
