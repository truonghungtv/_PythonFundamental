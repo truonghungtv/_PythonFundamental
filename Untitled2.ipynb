{
 "cells": [
  {
   "cell_type": "code",
   "execution_count": null,
   "metadata": {},
   "outputs": [],
   "source": [
    "# Bước 1: Import thư viện turtle\n",
    "import turtle\n",
    "\n",
    "# Bước 2:\n",
    "t = turtle.Turtle()\n",
    "t.shape(\"turtle\")\n",
    "t.pensize(5)\n",
    "t.pencolor(\"green\")\n",
    "t.speed(1)\n",
    "t.fillcolor(\"red\")\n",
    "# Bước 3: Vẽ\n",
    "t.begin_fill()\n",
    "t.circle(150)\n",
    "# Bước 4: Hoàn thành vẽ\n",
    "turtle.done()"
   ]
  }
 ],
 "metadata": {
  "kernelspec": {
   "display_name": "Python 3",
   "language": "python",
   "name": "python3"
  },
  "language_info": {
   "codemirror_mode": {
    "name": "ipython",
    "version": 3
   },
   "file_extension": ".py",
   "mimetype": "text/x-python",
   "name": "python",
   "nbconvert_exporter": "python",
   "pygments_lexer": "ipython3",
   "version": "3.8.5"
  }
 },
 "nbformat": 4,
 "nbformat_minor": 4
}
