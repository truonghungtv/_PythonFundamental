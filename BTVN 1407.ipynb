{
 "cells": [
  {
   "cell_type": "code",
   "execution_count": 1,
   "metadata": {},
   "outputs": [
    {
     "name": "stdout",
     "output_type": "stream",
     "text": [
      "Nhập hoành độ A:0\n",
      "Nhập tung độ A:0\n",
      "Nhập hoành độ B:100\n",
      "Nhập tung độ B:0\n",
      "Nhập hoành độ C:0\n",
      "Nhập tung độ C:100\n",
      "A(0,0)\n",
      "B(100,0)\n",
      "C(0,100)\n",
      "Để ABCD là hình bình hành thì tọa độ điểm D (-100.0,100.0)\n",
      "CHU VI HÌNH BÌNH HÀNH  VỪA NHẬP: 482.84\n",
      "Nhâp mau vien:red \n",
      "Nhập vào màu tô:blue\n"
     ]
    },
    {
     "ename": "TurtleGraphicsError",
     "evalue": "bad color string: red ",
     "output_type": "error",
     "traceback": [
      "\u001b[1;31m---------------------------------------------------------------------------\u001b[0m",
      "\u001b[1;31mTurtleGraphicsError\u001b[0m                       Traceback (most recent call last)",
      "\u001b[1;32m<ipython-input-1-976b347ee6f0>\u001b[0m in \u001b[0;36m<module>\u001b[1;34m\u001b[0m\n\u001b[0;32m     47\u001b[0m \u001b[1;33m\u001b[0m\u001b[0m\n\u001b[0;32m     48\u001b[0m \u001b[1;31m# Vẽ\u001b[0m\u001b[1;33m\u001b[0m\u001b[1;33m\u001b[0m\u001b[1;33m\u001b[0m\u001b[0m\n\u001b[1;32m---> 49\u001b[1;33m \u001b[0mt\u001b[0m\u001b[1;33m.\u001b[0m\u001b[0mcolor\u001b[0m\u001b[1;33m(\u001b[0m\u001b[0mmauvien\u001b[0m\u001b[1;33m)\u001b[0m\u001b[1;33m\u001b[0m\u001b[1;33m\u001b[0m\u001b[0m\n\u001b[0m\u001b[0;32m     50\u001b[0m \u001b[0mt\u001b[0m\u001b[1;33m.\u001b[0m\u001b[0mbegin_fill\u001b[0m\u001b[1;33m(\u001b[0m\u001b[1;33m)\u001b[0m\u001b[1;33m\u001b[0m\u001b[1;33m\u001b[0m\u001b[0m\n\u001b[0;32m     51\u001b[0m \u001b[0mt\u001b[0m\u001b[1;33m.\u001b[0m\u001b[0mfillcolor\u001b[0m\u001b[1;33m(\u001b[0m\u001b[0mmauto\u001b[0m\u001b[1;33m)\u001b[0m\u001b[1;33m\u001b[0m\u001b[1;33m\u001b[0m\u001b[0m\n",
      "\u001b[1;32mC:\\ProgramData\\Anaconda3\\lib\\turtle.py\u001b[0m in \u001b[0;36mcolor\u001b[1;34m(self, *args)\u001b[0m\n\u001b[0;32m   2214\u001b[0m             \u001b[1;32melif\u001b[0m \u001b[0ml\u001b[0m \u001b[1;33m==\u001b[0m \u001b[1;36m3\u001b[0m\u001b[1;33m:\u001b[0m\u001b[1;33m\u001b[0m\u001b[1;33m\u001b[0m\u001b[0m\n\u001b[0;32m   2215\u001b[0m                 \u001b[0mpcolor\u001b[0m \u001b[1;33m=\u001b[0m \u001b[0mfcolor\u001b[0m \u001b[1;33m=\u001b[0m \u001b[0margs\u001b[0m\u001b[1;33m\u001b[0m\u001b[1;33m\u001b[0m\u001b[0m\n\u001b[1;32m-> 2216\u001b[1;33m             \u001b[0mpcolor\u001b[0m \u001b[1;33m=\u001b[0m \u001b[0mself\u001b[0m\u001b[1;33m.\u001b[0m\u001b[0m_colorstr\u001b[0m\u001b[1;33m(\u001b[0m\u001b[0mpcolor\u001b[0m\u001b[1;33m)\u001b[0m\u001b[1;33m\u001b[0m\u001b[1;33m\u001b[0m\u001b[0m\n\u001b[0m\u001b[0;32m   2217\u001b[0m             \u001b[0mfcolor\u001b[0m \u001b[1;33m=\u001b[0m \u001b[0mself\u001b[0m\u001b[1;33m.\u001b[0m\u001b[0m_colorstr\u001b[0m\u001b[1;33m(\u001b[0m\u001b[0mfcolor\u001b[0m\u001b[1;33m)\u001b[0m\u001b[1;33m\u001b[0m\u001b[1;33m\u001b[0m\u001b[0m\n\u001b[0;32m   2218\u001b[0m             \u001b[0mself\u001b[0m\u001b[1;33m.\u001b[0m\u001b[0mpen\u001b[0m\u001b[1;33m(\u001b[0m\u001b[0mpencolor\u001b[0m\u001b[1;33m=\u001b[0m\u001b[0mpcolor\u001b[0m\u001b[1;33m,\u001b[0m \u001b[0mfillcolor\u001b[0m\u001b[1;33m=\u001b[0m\u001b[0mfcolor\u001b[0m\u001b[1;33m)\u001b[0m\u001b[1;33m\u001b[0m\u001b[1;33m\u001b[0m\u001b[0m\n",
      "\u001b[1;32mC:\\ProgramData\\Anaconda3\\lib\\turtle.py\u001b[0m in \u001b[0;36m_colorstr\u001b[1;34m(self, args)\u001b[0m\n\u001b[0;32m   2694\u001b[0m \u001b[1;33m\u001b[0m\u001b[0m\n\u001b[0;32m   2695\u001b[0m     \u001b[1;32mdef\u001b[0m \u001b[0m_colorstr\u001b[0m\u001b[1;33m(\u001b[0m\u001b[0mself\u001b[0m\u001b[1;33m,\u001b[0m \u001b[0margs\u001b[0m\u001b[1;33m)\u001b[0m\u001b[1;33m:\u001b[0m\u001b[1;33m\u001b[0m\u001b[1;33m\u001b[0m\u001b[0m\n\u001b[1;32m-> 2696\u001b[1;33m         \u001b[1;32mreturn\u001b[0m \u001b[0mself\u001b[0m\u001b[1;33m.\u001b[0m\u001b[0mscreen\u001b[0m\u001b[1;33m.\u001b[0m\u001b[0m_colorstr\u001b[0m\u001b[1;33m(\u001b[0m\u001b[0margs\u001b[0m\u001b[1;33m)\u001b[0m\u001b[1;33m\u001b[0m\u001b[1;33m\u001b[0m\u001b[0m\n\u001b[0m\u001b[0;32m   2697\u001b[0m \u001b[1;33m\u001b[0m\u001b[0m\n\u001b[0;32m   2698\u001b[0m     \u001b[1;32mdef\u001b[0m \u001b[0m_cc\u001b[0m\u001b[1;33m(\u001b[0m\u001b[0mself\u001b[0m\u001b[1;33m,\u001b[0m \u001b[0margs\u001b[0m\u001b[1;33m)\u001b[0m\u001b[1;33m:\u001b[0m\u001b[1;33m\u001b[0m\u001b[1;33m\u001b[0m\u001b[0m\n",
      "\u001b[1;32mC:\\ProgramData\\Anaconda3\\lib\\turtle.py\u001b[0m in \u001b[0;36m_colorstr\u001b[1;34m(self, color)\u001b[0m\n\u001b[0;32m   1156\u001b[0m                 \u001b[1;32mreturn\u001b[0m \u001b[0mcolor\u001b[0m\u001b[1;33m\u001b[0m\u001b[1;33m\u001b[0m\u001b[0m\n\u001b[0;32m   1157\u001b[0m             \u001b[1;32melse\u001b[0m\u001b[1;33m:\u001b[0m\u001b[1;33m\u001b[0m\u001b[1;33m\u001b[0m\u001b[0m\n\u001b[1;32m-> 1158\u001b[1;33m                 \u001b[1;32mraise\u001b[0m \u001b[0mTurtleGraphicsError\u001b[0m\u001b[1;33m(\u001b[0m\u001b[1;34m\"bad color string: %s\"\u001b[0m \u001b[1;33m%\u001b[0m \u001b[0mstr\u001b[0m\u001b[1;33m(\u001b[0m\u001b[0mcolor\u001b[0m\u001b[1;33m)\u001b[0m\u001b[1;33m)\u001b[0m\u001b[1;33m\u001b[0m\u001b[1;33m\u001b[0m\u001b[0m\n\u001b[0m\u001b[0;32m   1159\u001b[0m         \u001b[1;32mtry\u001b[0m\u001b[1;33m:\u001b[0m\u001b[1;33m\u001b[0m\u001b[1;33m\u001b[0m\u001b[0m\n\u001b[0;32m   1160\u001b[0m             \u001b[0mr\u001b[0m\u001b[1;33m,\u001b[0m \u001b[0mg\u001b[0m\u001b[1;33m,\u001b[0m \u001b[0mb\u001b[0m \u001b[1;33m=\u001b[0m \u001b[0mcolor\u001b[0m\u001b[1;33m\u001b[0m\u001b[1;33m\u001b[0m\u001b[0m\n",
      "\u001b[1;31mTurtleGraphicsError\u001b[0m: bad color string: red "
     ]
    }
   ],
   "source": [
    "\"\"\"Bài tập về nhà ngày 14/7/2021:\n",
    "\n",
    "Nhập vào tọa độ 3 điểm A(x1,y1), B(x2,y2), C(x3,y3). Tìm tọa độ điểm D(x4,y4) để ABCD (các đỉnh theo thứ tự đã cho) là một hình bình hành. Sau khi tìm được điểm D, vẽ hình bình hành đó với màu nên được nhập vào với lệnh input. Tính chu vi hình bình hành đó.\n",
    "\n",
    "Gợi ý: Tìm tọa độ D thông qua trung điểm của cạnh BC. Dùng lệnh goto(x,y) trong turtle để vẽ cạnh khi biết tọa độ \"\"\"\n",
    "\n",
    "import math\n",
    "import turtle\n",
    "\n",
    "# Nhập tọa độ các điểm đã biết A, B, C\n",
    "x1 = int(input(\"Nhập hoành độ A:\"))\n",
    "y1 = int(input(\"Nhập tung độ A:\"))\n",
    "\n",
    "x2 = int(input(\"Nhập hoành độ B:\"))\n",
    "y2 = int(input(\"Nhập tung độ B:\"))\n",
    "\n",
    "x3 = int(input(\"Nhập hoành độ C:\"))\n",
    "y3 = int(input(\"Nhập tung độ C:\"))\n",
    "\n",
    "print(\"A({0},{1})\".format(x1,y1))\n",
    "print(\"B({0},{1})\".format(x2,y2))\n",
    "print(\"C({0},{1})\".format(x3,y3))\n",
    "\n",
    "# Tính tọa độ tâm hình bình hành\n",
    "x = (x1 +x3)/2  \n",
    "y = (y1 + y3)/2\n",
    "\n",
    "# Tọa độ điểm D cần tìm\n",
    "x4 = 2*x - x2\n",
    "y4 =2*y - y2\n",
    "print(\"Để ABCD là hình bình hành thì tọa độ điểm D ({hd},{td})\".format(td =y4,hd =x4))\n",
    "\n",
    "# Độ dài cạnh hình bình hành\n",
    "AB = math.sqrt(pow(x2-x1,2)+pow(y2-y1,2))\n",
    "BC = math.sqrt(pow(x3-x2,2)+pow(y3-y2,2))\n",
    "p = 2*(AB + BC)\n",
    "print(\"CHU VI HÌNH BÌNH HÀNH  VỪA NHẬP:\",round(p,2))\n",
    "\n",
    "\n",
    "# Chuẩn bị vẽ\n",
    "t = turtle.Turtle()\n",
    "t.shape('turtle')\n",
    "t.pensize(5)\n",
    "t.speed(1)\n",
    "mauvien =input(\"Nhâp mau vien:\")\n",
    "mauto =input(\"Nhập vào màu tô:\") # red, green, blue, black, yellow, gray,pink,orange (nếu là mã màu thì có dạng #RRGGBB)\n",
    "\n",
    "# Vẽ\n",
    "t.color(mauvien)\n",
    "t.begin_fill()\n",
    "t.fillcolor(mauto)\n",
    "t.pu()\n",
    "t.goto(x1,y1)\n",
    "t.pendown()\n",
    "t.goto(x2,y2)\n",
    "t.goto(x3,y3)\n",
    "t.goto(x4,y4)\n",
    "t.goto(x1,y1)\n",
    "t.end_fill()\n",
    "# Hoàn thành vẽ\n",
    "turtle.done()\n"
   ]
  }
 ],
 "metadata": {
  "kernelspec": {
   "display_name": "Python 3",
   "language": "python",
   "name": "python3"
  },
  "language_info": {
   "codemirror_mode": {
    "name": "ipython",
    "version": 3
   },
   "file_extension": ".py",
   "mimetype": "text/x-python",
   "name": "python",
   "nbconvert_exporter": "python",
   "pygments_lexer": "ipython3",
   "version": "3.8.5"
  }
 },
 "nbformat": 4,
 "nbformat_minor": 4
}
