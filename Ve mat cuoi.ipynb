{
 "cells": [
  {
   "cell_type": "code",
   "execution_count": null,
   "metadata": {},
   "outputs": [],
   "source": [
    "# Bước 1: Import thư viện turtle\n",
    "import turtle\n",
    "# Bước 2: Tạo đối tượng turtle\n",
    "a = turtle.Turtle()\n",
    "a.shape(\"turtle\")\n",
    "a.pensize(5)\n",
    "a.pencolor(\"Blue\")\n",
    "vtlon = 200\n",
    "a.penup()\n",
    "a.goto(0,-200)\n",
    "a.pendown()\n",
    "# Bước 3: Vẽ\n",
    "a.circle(vtlon)\n",
    "a.penup()\n",
    "a.fillcolor(\"red\")\n",
    "a.goto(-100,50)\n",
    "a.pendown()\n",
    "ktm = 17.5\n",
    "a.begin_fill()\n",
    "a.circle(ktm)\n",
    "a.end_fill()\n",
    "\n",
    "a.penup()\n",
    "a.goto(100,50)\n",
    "a.pendown()\n",
    "a.begin_fill()\n",
    "a.circle(ktm)\n",
    "a.end_fill()\n",
    "\n",
    "a.penup()\n",
    "a.goto(0,50)\n",
    "a.pendown()\n",
    "a.circle(-70,steps=3)\n",
    "\n",
    "turtle.penup()\n",
    "turtle.goto(-100, -70)\n",
    "turtle.pendown()\n",
    "turtle.right(90)\n",
    "turtle.circle(100,180)\n",
    "turtle.mainloop()\n",
    "# Bước 4: Hoàn thành vẽ\n",
    "turtle.done()"
   ]
  }
 ],
 "metadata": {
  "kernelspec": {
   "display_name": "Python 3",
   "language": "python",
   "name": "python3"
  },
  "language_info": {
   "codemirror_mode": {
    "name": "ipython",
    "version": 3
   },
   "file_extension": ".py",
   "mimetype": "text/x-python",
   "name": "python",
   "nbconvert_exporter": "python",
   "pygments_lexer": "ipython3",
   "version": "3.8.5"
  }
 },
 "nbformat": 4,
 "nbformat_minor": 4
}
