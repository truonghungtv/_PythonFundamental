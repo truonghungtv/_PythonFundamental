{
 "cells": [
  {
   "cell_type": "code",
   "execution_count": 1,
   "metadata": {},
   "outputs": [
    {
     "data": {
      "text/plain": [
       "'\"import turtle\\nimport math\\nr = 100\\nt = turtle.Turtle()\\nt.pencolor(\\'red\\')\\nt.circle(r)\\n\\nc =2*math.pi*r\\ns = math.pi*r*r\\nprint(c)\\nprint(s) \\n\\n# Dùng chỉ số\\nprint(\"Chu vi hình tròn có bán kính {0} là {1}\".format(r,c))\\nprint(\"Chu vi hình tròn có bán kính {1} là {0}\".format(s,r))\\n\\n# Dùng keyword\\nprint(\"Chu vi hình tròn có bán kính {bk} là {cv}\".format(bk=r,cv=c))\\nprint(\"Chu vi hình tròn có bán kính {bk} là {dt}\".format(dt=s,bk=r))\\nturtle.done()\\n'"
      ]
     },
     "execution_count": 1,
     "metadata": {},
     "output_type": "execute_result"
    }
   ],
   "source": [
    "\"\"\"\"import turtle\n",
    "import math\n",
    "r = 100\n",
    "t = turtle.Turtle()\n",
    "t.pencolor('red')\n",
    "t.circle(r)\n",
    "\n",
    "c =2*math.pi*r\n",
    "s = math.pi*r*r\n",
    "print(c)\n",
    "print(s) \n",
    "\n",
    "# Dùng chỉ số\n",
    "print(\"Chu vi hình tròn có bán kính {0} là {1}\".format(r,c))\n",
    "print(\"Chu vi hình tròn có bán kính {1} là {0}\".format(s,r))\n",
    "\n",
    "# Dùng keyword\n",
    "print(\"Chu vi hình tròn có bán kính {bk} là {cv}\".format(bk=r,cv=c))\n",
    "print(\"Chu vi hình tròn có bán kính {bk} là {dt}\".format(dt=s,bk=r))\n",
    "turtle.done()\n",
    "\"\"\""
   ]
  },
  {
   "cell_type": "code",
   "execution_count": 2,
   "metadata": {},
   "outputs": [
    {
     "data": {
      "text/plain": [
       "'\"\\na = 10\\nb = 5\\n\\nprint(\"{0} + {1}= {2}\".format(a,b,a+b))\\nprint(\"{0} - {1}= {2}\".format(a,b,a-b))\\nprint(\"{0} * {1}= {2}\".format(a,b,a*b))\\nprint(\"{0} / {1}= {2}\".format(a,b,a/b))\\n'"
      ]
     },
     "execution_count": 2,
     "metadata": {},
     "output_type": "execute_result"
    }
   ],
   "source": [
    "\"\"\"\"\n",
    "a = 10\n",
    "b = 5\n",
    "\n",
    "print(\"{0} + {1}= {2}\".format(a,b,a+b))\n",
    "print(\"{0} - {1}= {2}\".format(a,b,a-b))\n",
    "print(\"{0} * {1}= {2}\".format(a,b,a*b))\n",
    "print(\"{0} / {1}= {2}\".format(a,b,a/b))\n",
    "\"\"\""
   ]
  },
  {
   "cell_type": "code",
   "execution_count": 3,
   "metadata": {},
   "outputs": [
    {
     "name": "stdout",
     "output_type": "stream",
     "text": [
      "5*x*x +2x +3\n"
     ]
    }
   ],
   "source": [
    "# cho hệ số a, b, c của đa thức bậc hai sau đó in ra theo đúng định dạng\n",
    "a = 5\n",
    "b = 2\n",
    "c = 3\n",
    "print(\"{0}*x*x +{1}x +{2}\".format(a,b,c))"
   ]
  }
 ],
 "metadata": {
  "kernelspec": {
   "display_name": "Python 3",
   "language": "python",
   "name": "python3"
  },
  "language_info": {
   "codemirror_mode": {
    "name": "ipython",
    "version": 3
   },
   "file_extension": ".py",
   "mimetype": "text/x-python",
   "name": "python",
   "nbconvert_exporter": "python",
   "pygments_lexer": "ipython3",
   "version": "3.8.5"
  }
 },
 "nbformat": 4,
 "nbformat_minor": 4
}
