{
 "cells": [
  {
   "cell_type": "code",
   "execution_count": 1,
   "metadata": {},
   "outputs": [],
   "source": [
    "import turtle\n",
    "\n",
    "t = turtle.Turtle()\n",
    "a = 100\n",
    "t.pencolor(\"red\")\n",
    "t.circle(a)\n",
    "a -= 20\n",
    "\n",
    "\n",
    "t.pencolor(\"green\")\n",
    "t.circle(a)\n",
    "a -= 20\n",
    "\n",
    "\n",
    "t.pencolor(\"blue\")\n",
    "t.circle(a)\n",
    "a -= 20\n",
    "\n",
    "turtle.done()"
   ]
  }
 ],
 "metadata": {
  "kernelspec": {
   "display_name": "Python 3",
   "language": "python",
   "name": "python3"
  },
  "language_info": {
   "codemirror_mode": {
    "name": "ipython",
    "version": 3
   },
   "file_extension": ".py",
   "mimetype": "text/x-python",
   "name": "python",
   "nbconvert_exporter": "python",
   "pygments_lexer": "ipython3",
   "version": "3.8.5"
  }
 },
 "nbformat": 4,
 "nbformat_minor": 4
}
