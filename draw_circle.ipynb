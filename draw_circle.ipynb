{
 "cells": [
  {
   "cell_type": "code",
   "execution_count": 2,
   "metadata": {},
   "outputs": [
    {
     "name": "stdout",
     "output_type": "stream",
     "text": [
      "Bán kính hình tròn = 100\n",
      "Màu của viền hình tròn = red\n"
     ]
    }
   ],
   "source": [
    "import turtle\n",
    "\n",
    "radius  = int(input(\"Bán kính hình tròn = \"))\n",
    "color = input(\"Màu của viền hình tròn = \")\n",
    "\n",
    "t = turtle.Turtle()\n",
    "t.pencolor(color)\n",
    "t.circle(radius)\n",
    "turtle.done()"
   ]
  },
  {
   "cell_type": "code",
   "execution_count": null,
   "metadata": {},
   "outputs": [],
   "source": []
  }
 ],
 "metadata": {
  "kernelspec": {
   "display_name": "Python 3",
   "language": "python",
   "name": "python3"
  },
  "language_info": {
   "codemirror_mode": {
    "name": "ipython",
    "version": 3
   },
   "file_extension": ".py",
   "mimetype": "text/x-python",
   "name": "python",
   "nbconvert_exporter": "python",
   "pygments_lexer": "ipython3",
   "version": "3.8.5"
  }
 },
 "nbformat": 4,
 "nbformat_minor": 4
}
