{
 "cells": [
  {
   "cell_type": "code",
   "execution_count": 1,
   "metadata": {},
   "outputs": [
    {
     "name": "stdout",
     "output_type": "stream",
     "text": [
      "Khóa học lập trình Python căn bản\n",
      "Bắt đầu 30/6. Kết thúc 15/9\n",
      "Giáo Viên: Cao Tuấn Anh\n",
      "Sĩ số 14 sinh viên\n"
     ]
    }
   ],
   "source": [
    "print(\"Khóa học lập trình Python căn bản\")\n",
    "print(\"Bắt đầu 30/6. Kết thúc 15/9\")\n",
    "print(\"Giáo Viên: Cao Tuấn Anh\")\n",
    "print(\"Sĩ số 14 sinh viên\")"
   ]
  },
  {
   "cell_type": "code",
   "execution_count": null,
   "metadata": {},
   "outputs": [],
   "source": []
  }
 ],
 "metadata": {
  "kernelspec": {
   "display_name": "Python 3",
   "language": "python",
   "name": "python3"
  },
  "language_info": {
   "codemirror_mode": {
    "name": "ipython",
    "version": 3
   },
   "file_extension": ".py",
   "mimetype": "text/x-python",
   "name": "python",
   "nbconvert_exporter": "python",
   "pygments_lexer": "ipython3",
   "version": "3.8.5"
  }
 },
 "nbformat": 4,
 "nbformat_minor": 4
}
