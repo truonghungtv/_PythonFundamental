{
 "cells": [
  {
   "cell_type": "code",
   "execution_count": 1,
   "metadata": {},
   "outputs": [
    {
     "name": "stdout",
     "output_type": "stream",
     "text": [
      "Mời bạn nhập vào độ C muốn chuyển đổi sang độ F30\n",
      "Độ F chuyển đổi được là: 86.0\n"
     ]
    }
   ],
   "source": [
    "a = int(input(\"Mời bạn nhập vào độ C muốn chuyển đổi sang độ F\"))\n",
    "f = (9*(a/5))+32\n",
    "print(\"Độ F chuyển đổi được là:\",f)"
   ]
  }
 ],
 "metadata": {
  "kernelspec": {
   "display_name": "Python 3",
   "language": "python",
   "name": "python3"
  },
  "language_info": {
   "codemirror_mode": {
    "name": "ipython",
    "version": 3
   },
   "file_extension": ".py",
   "mimetype": "text/x-python",
   "name": "python",
   "nbconvert_exporter": "python",
   "pygments_lexer": "ipython3",
   "version": "3.8.5"
  }
 },
 "nbformat": 4,
 "nbformat_minor": 4
}
