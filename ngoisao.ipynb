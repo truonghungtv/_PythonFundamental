{
 "cells": [
  {
   "cell_type": "code",
   "execution_count": 1,
   "metadata": {},
   "outputs": [],
   "source": [
    "import turtle\n",
    "\n",
    "a =turtle.Turtle()\n",
    "a.shape(\"turtle\")\n",
    "a.pensize(5)\n",
    "a.pencolor('#ff0000')\n",
    "a.speed(1)\n",
    "\n",
    "a.right(144)\n",
    "a.forward(250)\n",
    "a.right(144)\n",
    "a.forward(250)\n",
    "a.right(144)\n",
    "a.forward(250)\n",
    "a.right(144)\n",
    "a.forward(250)\n",
    "a.right(144)\n",
    "a.forward(250)\n",
    "\n",
    "turtle.done()"
   ]
  },
  {
   "cell_type": "code",
   "execution_count": null,
   "metadata": {},
   "outputs": [],
   "source": []
  }
 ],
 "metadata": {
  "kernelspec": {
   "display_name": "Python 3",
   "language": "python",
   "name": "python3"
  },
  "language_info": {
   "codemirror_mode": {
    "name": "ipython",
    "version": 3
   },
   "file_extension": ".py",
   "mimetype": "text/x-python",
   "name": "python",
   "nbconvert_exporter": "python",
   "pygments_lexer": "ipython3",
   "version": "3.8.5"
  }
 },
 "nbformat": 4,
 "nbformat_minor": 4
}
