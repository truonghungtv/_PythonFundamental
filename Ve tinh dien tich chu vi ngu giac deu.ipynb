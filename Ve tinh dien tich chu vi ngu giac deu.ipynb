{
 "cells": [
  {
   "cell_type": "code",
   "execution_count": null,
   "metadata": {},
   "outputs": [],
   "source": [
    "import turtle\n",
    "import math\n",
    "\n",
    "a = turtle.Turtle()\n",
    "a.shape(\"turtle\")\n",
    "a.pensize(5)\n",
    "size = int(input(\"Mời bạn nhập vào cạnh ngũ giác đều:\"))\n",
    "col = input(\"Nhập màu tô cho hình ngũ giác (nếu là mã màu thì có dạng #RRGGBB):\")\n",
    "colp =input(\"Nhập  màu nét vẽ (nếu là mã màu thì có dạng #RRGGBB):\")\n",
    "a.pencolor(colp)\n",
    "a.fillcolor(col)\n",
    "\n",
    "a.begin_fill()\n",
    "for i in range(6):\n",
    "    a.fd(size)\n",
    "    a.lt(360/5)\n",
    "a.end_fill()\n",
    "\n",
    "p=size*5\n",
    "print(\"Chu vi hình ngũ giác: \",p)\n",
    "\n",
    "dt = round((math.sqrt(25+10*math.sqrt(5))/4*pow(size,2)),2)\n",
    "print(\"Diện tích hình ngũ giác: \", dt)\n",
    "\n",
    "\"\"\"\" a.penup()\n",
    "a.goto(-200,0)\n",
    "b = str(cv)         \n",
    "a. write (\"CHU VI HÌNH NGŨ GIÁC BẠN VỪA NHẬP \" + b) \n",
    "dt = round(((math.sqrt(25+10*math.sqrt(5))/4*size),2) \"\"\"\n",
    "\n",
    "\n",
    "print(\"Chu vi hình ngũ giác \",p)\n",
    "\n",
    "\n",
    "a.ht()\n",
    "turtle.done()"
   ]
  },
  {
   "cell_type": "code",
   "execution_count": null,
   "metadata": {},
   "outputs": [],
   "source": []
  }
 ],
 "metadata": {
  "kernelspec": {
   "display_name": "Python 3",
   "language": "python",
   "name": "python3"
  },
  "language_info": {
   "codemirror_mode": {
    "name": "ipython",
    "version": 3
   },
   "file_extension": ".py",
   "mimetype": "text/x-python",
   "name": "python",
   "nbconvert_exporter": "python",
   "pygments_lexer": "ipython3",
   "version": "3.8.5"
  }
 },
 "nbformat": 4,
 "nbformat_minor": 4
}
