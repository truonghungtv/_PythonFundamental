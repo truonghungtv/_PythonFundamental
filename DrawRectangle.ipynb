{
 "cells": [
  {
   "cell_type": "code",
   "execution_count": null,
   "metadata": {},
   "outputs": [],
   "source": [
    "import turtle\n",
    "\n",
    "t = turtle.Turtle()\n",
    "t.shape(\"turtle\")\n",
    "t.pencolor(\"lime\")\n",
    "t.pensize(5)\n",
    "t.speed(1)\n",
    "\n",
    "m = 100\n",
    "n = 150\n",
    "\n",
    "t.forward(m)\n",
    "t.left(90)\n",
    "t.forward(n)\n",
    "t.left(90)\n",
    "t.forward(m)\n",
    "t.left(90)\n",
    "t.forward(n)\n",
    "t.left(90)\n",
    "\n",
    "turtle.done()"
   ]
  },
  {
   "cell_type": "code",
   "execution_count": null,
   "metadata": {},
   "outputs": [],
   "source": []
  }
 ],
 "metadata": {
  "kernelspec": {
   "display_name": "Python 3",
   "language": "python",
   "name": "python3"
  },
  "language_info": {
   "codemirror_mode": {
    "name": "ipython",
    "version": 3
   },
   "file_extension": ".py",
   "mimetype": "text/x-python",
   "name": "python",
   "nbconvert_exporter": "python",
   "pygments_lexer": "ipython3",
   "version": "3.8.5"
  }
 },
 "nbformat": 4,
 "nbformat_minor": 4
}
