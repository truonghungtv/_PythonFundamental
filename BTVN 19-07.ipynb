{
 "cells": [
  {
   "cell_type": "code",
   "execution_count": 1,
   "metadata": {},
   "outputs": [
    {
     "name": "stdout",
     "output_type": "stream",
     "text": [
      "Nhập hệ số a: 1\n",
      "Nhập hệ số b: 1\n",
      "Nhập hệ số c 1\n",
      "ĐA THỨC BẬC 2 BẠN VỪA NHẬP: 1x^2 + 1x + 1 = 0\n",
      "ĐA THỨC BẬC 2 BẠN VỪA NHẬP: 1x^2 + x + 1 =0\n",
      "ĐA THỨC BẬC 2 BẠN VỪA NHẬP: x^2 + x +1= 0\n"
     ]
    }
   ],
   "source": [
    "# CHƯƠNG TRÌNH IN RA ĐA THỨC BẬC HAI DẠNG ax^2 + bx  + c =0  (chỉ đúng với số dương)\n",
    "\n",
    "a = int(input(\"Nhập hệ số a: \"))\n",
    "b = int(input(\"Nhập hệ số b: \"))\n",
    "c = int(input(\"Nhập hệ số c \"))\n",
    "\n",
    "if a == 0:\n",
    "    print(\"ĐÂY KHÔNG PHẢI LÀ ĐA THỨC BẬC 2\")\n",
    "if (a !=0 or a !=1 or a !=-1):\n",
    "    if (a !=0 and a !=1 and a !=-1) and (b !=0 a b !=1 or b !=-1) and (c !=0 ):\n",
    "        print(\"ĐA THỨC BẬC 2 BẠN VỪA NHẬP: {}x^2 + {}x + {} = 0\".format(a,b,c))\n",
    "    if (b == -1 and c==0):\n",
    "        print (\"ĐA THỨC BẬC 2 BẠN VỪA NHẬP: {}x^2 - x = 0\".format(a))\n",
    "    if (b == -1 and c !=0):\n",
    "        print(\"ĐA THỨC BẬC 2 BẠN VỪA NHẬP: {}x^2 - x + {} = 0\".format(a,c))\n",
    "    if (b==1 and c ==0):\n",
    "        print(\"ĐA THỨC BẬC 2 BẠN VỪA NHẬP: {}x^2 + x = 0\".format(a))\n",
    "    if (b==1 and c !=0):\n",
    "        print(\"ĐA THỨC BẬC 2 BẠN VỪA NHẬP: {}x^2 + x + {} =0\".format(a,c))\n",
    "    if (b==0 and c !=0):\n",
    "        print(\"ĐA THỨC BẬC 2 BẠN VỪA NHẬP: {}x^2 + {} =0\".format(a,c)) \n",
    "    if (b==0 and c ==0):\n",
    "        print(\"ĐA THỨC BẬC 2 BẠN VỪA NHẬP: {}x^2 =0\".format(a))\n",
    "\n",
    "if a == -1:\n",
    "    if (b !=-1 and b !=0 and b != 1):\n",
    "        if (c!=0):\n",
    "            print(\"ĐA THỨC BẬC 2 BẠN VỪA NHẬP:-x^2 +{}x + {}=0\".format(b,c))\n",
    "        else:\n",
    "            print(\"ĐA THỨC BẬC 2 BẠN VỪA NHẬP: -x^2 +{}x +{} =0\".format(b,c))\n",
    "    else:\n",
    "        if (b ==-1 and c ==0):\n",
    "            print(\"ĐA THỨC BẬC 2 BẠN VỪA NHẬP: -x^2 - x = 0\")\n",
    "        if (b == -1 and c !=0):\n",
    "            print(\"ĐA THỨC BẬC 2 BẠN VỪA NHẬP: -x^2 - x +{}= 0\".format(c))\n",
    "        if (b == 1 and c ==0):\n",
    "            print(\"ĐA THỨC BẬC 2 BẠN VỪA NHẬP: -x^2 + x = 0\")\n",
    "        if (b == 1 and c !=0):\n",
    "            print(\"ĐA THỨC BẬC 2 BẠN VỪA NHẬP: -x^2 + x +{}= 0\".format(c))\n",
    "        if (b ==0 and c==0):\n",
    "            print(\"ĐA THỨC BẬC 2 BẠN VỪA NHẬP -x^2 = 0\".format(a))\n",
    "\n",
    "if a == 1:\n",
    "    if (b !=-1 and b !=0 and b != 1):\n",
    "        if (c!=0):\n",
    "            print(\"ĐA THỨC BẬC 2 BẠN VỪA NHẬP: x^2 + {}x + {}=0\".format(b,c))\n",
    "        else:\n",
    "            print(\"ĐA THỨC BẬC 2 BẠN VỪA NHẬP: x^2 + {}x +{} =0\".format(b,c))\n",
    "    else:\n",
    "        if (b ==-1 and c ==0):\n",
    "            print(\"ĐA THỨC BẬC 2 BẠN VỪA NHẬP: x^2 - x = 0\")\n",
    "        if (b == -1 and c !=0):\n",
    "            print(\"ĐA THỨC BẬC 2 BẠN VỪA NHẬP: x^2 - x +{}= 0\".format(c))\n",
    "        if (b == 1 and c ==0):\n",
    "            print(\"ĐA THỨC BẬC 2 BẠN VỪA NHẬP: x^2 + x = 0\")\n",
    "        if (b == 1 and c !=0):\n",
    "            print(\"ĐA THỨC BẬC 2 BẠN VỪA NHẬP: x^2 + x +{}= 0\".format(c))\n",
    "        if (b ==0 and c==0):\n",
    "            print(\"ĐA THỨC BẬC 2 BẠN VỪA NHẬP x^2 = 0\".format(a))\n",
    "            "
   ]
  },
  {
   "cell_type": "code",
   "execution_count": null,
   "metadata": {},
   "outputs": [],
   "source": []
  }
 ],
 "metadata": {
  "kernelspec": {
   "display_name": "Python 3",
   "language": "python",
   "name": "python3"
  },
  "language_info": {
   "codemirror_mode": {
    "name": "ipython",
    "version": 3
   },
   "file_extension": ".py",
   "mimetype": "text/x-python",
   "name": "python",
   "nbconvert_exporter": "python",
   "pygments_lexer": "ipython3",
   "version": "3.8.5"
  }
 },
 "nbformat": 4,
 "nbformat_minor": 4
}
