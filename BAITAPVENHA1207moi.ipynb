{
 "cells": [
  {
   "cell_type": "code",
   "execution_count": 1,
   "metadata": {},
   "outputs": [
    {
     "name": "stdout",
     "output_type": "stream",
     "text": [
      "Tổng:  16\n",
      "Giá trị trung bình của 4 số:  4.0\n",
      "--------True là số dương, False là số âm--------------\n",
      "False\n",
      "True\n"
     ]
    }
   ],
   "source": [
    "a = 7\n",
    "b = -9\n",
    "c = 8\n",
    "d = 10\n",
    "\n",
    "tong = a + b + c + d\n",
    "print(\"Tổng: \",tong)\n",
    "\n",
    "tb = (a+b+c+d)/4\n",
    "print(\"Giá trị trung bình của 4 số: \",tb)\n",
    "\n",
    "print(\"--------True là số dương, False là số âm--------------\")\n",
    "print(a >= 0 and b >= 0 and c >= 0 and d >= 0)\n",
    "\n",
    "print(\"--------True nếu có ít nhất một số là số chẵn, False nếu các số là số lẻ-------\")\n",
    "print( a%2==0 or b%2==0 or c%2==0 or d%2==0 )"
   ]
  },
  {
   "cell_type": "code",
   "execution_count": null,
   "metadata": {},
   "outputs": [],
   "source": []
  }
 ],
 "metadata": {
  "kernelspec": {
   "display_name": "Python 3",
   "language": "python",
   "name": "python3"
  },
  "language_info": {
   "codemirror_mode": {
    "name": "ipython",
    "version": 3
   },
   "file_extension": ".py",
   "mimetype": "text/x-python",
   "name": "python",
   "nbconvert_exporter": "python",
   "pygments_lexer": "ipython3",
   "version": "3.8.5"
  }
 },
 "nbformat": 4,
 "nbformat_minor": 4
}
